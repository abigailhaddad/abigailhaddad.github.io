{
 "cells": [
  {
   "cell_type": "code",
   "execution_count": 3,
   "id": "4e8f5459-27a0-4725-9152-426f1b2ace87",
   "metadata": {},
   "outputs": [
    {
     "name": "stdout",
     "output_type": "stream",
     "text": [
      "The shapefile contains non-contiguous elements.\n",
      "Number of non-contiguous elements: 10\n",
      "Indices of non-contiguous elements: [2, 3, 4, 5, 6, 7, 8, 9, 10, 11]\n"
     ]
    },
    {
     "name": "stderr",
     "output_type": "stream",
     "text": [
      "C:\\Users\\abiga\\AppData\\Local\\Temp\\ipykernel_22048\\1194307310.py:8: ShapelyDeprecationWarning: The 'type' attribute is deprecated, and will be removed in the future. You can use the 'geom_type' attribute instead.\n",
      "  has_multi = any(geom.type.startswith(\"Multi\") for geom in gdf.geometry)\n",
      "C:\\Users\\abiga\\AppData\\Local\\Temp\\ipykernel_22048\\1194307310.py:14: ShapelyDeprecationWarning: The 'type' attribute is deprecated, and will be removed in the future. You can use the 'geom_type' attribute instead.\n",
      "  non_contiguous_indices = [i for i, geom in enumerate(gdf.geometry) if geom.type.startswith(\"Multi\")]\n"
     ]
    }
   ],
   "source": [
    "import geopandas as gpd\n",
    "\n",
    "# Read the shapefile\n",
    "shapefile_path = r\"C:\\Users\\abiga\\Downloads\\cb_2022_us_all_500k\\cb_2022_02_anrc_500k\\cb_2022_02_anrc_500k.shp\"\n",
    "gdf = gpd.read_file(shapefile_path)\n",
    "\n",
    "# Check if any geometry is a MultiPolygon or MultiLineString\n",
    "has_multi = any(geom.type.startswith(\"Multi\") for geom in gdf.geometry)\n",
    "\n",
    "if has_multi:\n",
    "    print(\"The shapefile contains non-contiguous elements.\")\n",
    "    \n",
    "    # Get the indices of the non-contiguous elements\n",
    "    non_contiguous_indices = [i for i, geom in enumerate(gdf.geometry) if geom.type.startswith(\"Multi\")]\n",
    "    \n",
    "    # Print the number of non-contiguous elements\n",
    "    print(f\"Number of non-contiguous elements: {len(non_contiguous_indices)}\")\n",
    "    \n",
    "    # Print the indices of the non-contiguous elements\n",
    "    print(f\"Indices of non-contiguous elements: {non_contiguous_indices}\")\n",
    "else:\n",
    "    print(\"The shapefile does not contain non-contiguous elements.\")"
   ]
  },
  {
   "cell_type": "code",
   "execution_count": null,
   "id": "5ee6dd5e-f8a4-4ac4-a85e-65765afe03fb",
   "metadata": {},
   "outputs": [],
   "source": []
  }
 ],
 "metadata": {
  "kernelspec": {
   "display_name": "Python 3 (ipykernel)",
   "language": "python",
   "name": "python3"
  },
  "language_info": {
   "codemirror_mode": {
    "name": "ipython",
    "version": 3
   },
   "file_extension": ".py",
   "mimetype": "text/x-python",
   "name": "python",
   "nbconvert_exporter": "python",
   "pygments_lexer": "ipython3",
   "version": "3.11.2"
  }
 },
 "nbformat": 4,
 "nbformat_minor": 5
}
